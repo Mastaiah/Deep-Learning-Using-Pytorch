{
  "nbformat": 4,
  "nbformat_minor": 0,
  "metadata": {
    "colab": {
      "provenance": [],
      "gpuType": "T4",
      "authorship_tag": "ABX9TyPZkkkSJ4aLLjfCRtMQuq26",
      "include_colab_link": true
    },
    "kernelspec": {
      "name": "python3",
      "display_name": "Python 3"
    },
    "language_info": {
      "name": "python"
    },
    "accelerator": "GPU"
  },
  "cells": [
    {
      "cell_type": "markdown",
      "metadata": {
        "id": "view-in-github",
        "colab_type": "text"
      },
      "source": [
        "<a href=\"https://colab.research.google.com/github/Mastaiah/Deep-Learning-Using-Pytorch/blob/main/Pytorch_Linear_Model.ipynb\" target=\"_parent\"><img src=\"https://colab.research.google.com/assets/colab-badge.svg\" alt=\"Open In Colab\"/></a>"
      ]
    },
    {
      "cell_type": "code",
      "execution_count": 1,
      "metadata": {
        "id": "EbELjjngkG_O"
      },
      "outputs": [],
      "source": [
        "#Load all the required libraries\n",
        "import torch\n",
        "import numpy as np\n",
        "from matplotlib import pyplot as plt\n",
        "from torch import nn\n",
        "from torch.nn import functional as F"
      ]
    },
    {
      "cell_type": "markdown",
      "source": [
        "      torch\n",
        "          |__ nn\n",
        "                |__ Module\n",
        "                |__ Sequential\n",
        "                |__ Conv(n)d\n",
        "                |__ Max(n)d\n",
        "                |__ L1Loss\n",
        "                |__ Linear\n",
        "                |__ ReLU\n",
        "                |__ Sigmoid\n",
        "                |__ LeakyReLU\n",
        "                |__ Softmax\n",
        "                |__ Functional\n",
        "\n",
        "          |__ optim\n",
        "                  |__ SGD\n",
        "                  |__ Adam\n",
        "                  |__ RMSprop"
      ],
      "metadata": {
        "id": "RKDViiQYlkzu"
      }
    },
    {
      "cell_type": "code",
      "source": [
        "#Setting up device agnostic code.\n",
        "device = \"cuda\" if torch.cuda.is_available() else \"cpu\"\n",
        "print(f\"Using device :{device}\")"
      ],
      "metadata": {
        "colab": {
          "base_uri": "https://localhost:8080/"
        },
        "id": "dQkgjllm1rfs",
        "outputId": "5423b8d1-5dd3-4956-b672-31dbf1b6d683"
      },
      "execution_count": 2,
      "outputs": [
        {
          "output_type": "stream",
          "name": "stdout",
          "text": [
            "Using device :cuda\n"
          ]
        }
      ]
    },
    {
      "cell_type": "code",
      "source": [
        "weight = 0.7\n",
        "bias = 0.3\n",
        "\n",
        "X = torch.arange(start = 0.0 , end = 1.0 ,step = 0.02 ).unsqueeze(dim=1) # using unsqueeze function to convert vector to matrix.\n",
        "print(f\"Feature :\\n{X[:5]}\")\n",
        "\n",
        "Y = weight * X + bias\n",
        "print(f\"Target :\\n{Y[:5]}\")\n"
      ],
      "metadata": {
        "colab": {
          "base_uri": "https://localhost:8080/"
        },
        "id": "owAZ-HTpo5C9",
        "outputId": "1d7e46cc-74d1-4304-a80d-f8bcd4ba81df"
      },
      "execution_count": 99,
      "outputs": [
        {
          "output_type": "stream",
          "name": "stdout",
          "text": [
            "Feature :\n",
            "tensor([[0.0000],\n",
            "        [0.0200],\n",
            "        [0.0400],\n",
            "        [0.0600],\n",
            "        [0.0800]])\n",
            "Target :\n",
            "tensor([[0.3000],\n",
            "        [0.3140],\n",
            "        [0.3280],\n",
            "        [0.3420],\n",
            "        [0.3560]])\n"
          ]
        }
      ]
    },
    {
      "cell_type": "code",
      "source": [
        "# Split the train and test split.\n",
        "\n",
        "train_split = int ( 0.8 * len(X)) # can also be written as ( 0.8 * X.shape[0])\n",
        "\n",
        "X_train , Y_train = X[:train_split] , Y[:train_split]\n",
        "X_test , Y_test = X[train_split:] , Y[train_split:]\n",
        "\n",
        "X_train.shape , Y_train.shape , X_test.shape , Y_test.shape"
      ],
      "metadata": {
        "colab": {
          "base_uri": "https://localhost:8080/"
        },
        "id": "nC2HQAoprnDz",
        "outputId": "03c2668d-5e9e-419a-e9bc-3effeaa80ea5"
      },
      "execution_count": 4,
      "outputs": [
        {
          "output_type": "execute_result",
          "data": {
            "text/plain": [
              "(torch.Size([40, 1]),\n",
              " torch.Size([40, 1]),\n",
              " torch.Size([10, 1]),\n",
              " torch.Size([10, 1]))"
            ]
          },
          "metadata": {},
          "execution_count": 4
        }
      ]
    },
    {
      "cell_type": "code",
      "source": [
        "def plot_prediction ( train_feature = X_train,\n",
        "                      train_target = Y_train,\n",
        "                      test_feature = X_test,\n",
        "                      test_target = Y_test,\n",
        "                      prediction = None):\n",
        "\n",
        "    plt.figure(figsize=(5,3)) # Width = 5 , height = 3\n",
        "\n",
        "    #Plotting train data (feature and target)\n",
        "    plt.scatter(x = train_feature.cpu() , y = train_target.cpu() , c = 'b', s = 14 , label = \"Train data\")\n",
        "    plt.scatter(x = test_feature.cpu() , y = test_target.cpu() , c = 'g' , s = 14 , label = \"Test data\" )\n",
        "\n",
        "    if prediction is not None:\n",
        "      plt.scatter( x = test_target.cpu(), y = prediction.cpu() , c = 'r', s = 14 , label = \"Prediction data\" )"
      ],
      "metadata": {
        "id": "Kc7gs8Lrtcdf"
      },
      "execution_count": 70,
      "outputs": []
    },
    {
      "cell_type": "code",
      "source": [
        "plot_prediction ()"
      ],
      "metadata": {
        "colab": {
          "base_uri": "https://localhost:8080/",
          "height": 291
        },
        "id": "M9ZsIiLBi2Pz",
        "outputId": "25075f65-690d-4f99-eefd-14ae0adba7fb"
      },
      "execution_count": 50,
      "outputs": [
        {
          "output_type": "display_data",
          "data": {
            "text/plain": [
              "<Figure size 500x300 with 1 Axes>"
            ],
            "image/png": "[encoded data removed]"
          },
          "metadata": {}
        }
      ]
    },
    {
      "cell_type": "code",
      "source": [
        "x = torch.randn(1.0, requires_grad=True)"
      ],
      "metadata": {
        "colab": {
          "base_uri": "https://localhost:8080/",
          "height": 280
        },
        "id": "JD5rjrUA90rV",
        "outputId": "e3b50fe2-9bc2-40a0-f7e9-550575981baa"
      },
      "execution_count": 8,
      "outputs": [
        {
          "output_type": "error",
          "ename": "TypeError",
          "evalue": "ignored",
          "traceback": [
            "\u001b[0;31m---------------------------------------------------------------------------\u001b[0m",
            "\u001b[0;31mTypeError\u001b[0m                                 Traceback (most recent call last)",
            "\u001b[0;32m<ipython-input-8-dfc70e26ffb2>\u001b[0m in \u001b[0;36m<cell line: 1>\u001b[0;34m()\u001b[0m\n\u001b[0;32m----> 1\u001b[0;31m \u001b[0mx\u001b[0m \u001b[0;34m=\u001b[0m \u001b[0mtorch\u001b[0m\u001b[0;34m.\u001b[0m\u001b[0mrandn\u001b[0m\u001b[0;34m(\u001b[0m\u001b[0;36m1.0\u001b[0m\u001b[0;34m,\u001b[0m \u001b[0mrequires_grad\u001b[0m\u001b[0;34m=\u001b[0m\u001b[0;32mTrue\u001b[0m\u001b[0;34m)\u001b[0m\u001b[0;34m\u001b[0m\u001b[0;34m\u001b[0m\u001b[0m\n\u001b[0m",
            "\u001b[0;31mTypeError\u001b[0m: randn() received an invalid combination of arguments - got (float, requires_grad=bool), but expected one of:\n * (tuple of ints size, *, torch.Generator generator, tuple of names names, torch.dtype dtype, torch.layout layout, torch.device device, bool pin_memory, bool requires_grad)\n * (tuple of ints size, *, torch.Generator generator, Tensor out, torch.dtype dtype, torch.layout layout, torch.device device, bool pin_memory, bool requires_grad)\n * (tuple of ints size, *, Tensor out, torch.dtype dtype, torch.layout layout, torch.device device, bool pin_memory, bool requires_grad)\n * (tuple of ints size, *, tuple of names names, torch.dtype dtype, torch.layout layout, torch.device device, bool pin_memory, bool requires_grad)\n"
          ]
        }
      ]
    },
    {
      "cell_type": "code",
      "source": [
        "#To fix the above issue\n",
        "x = torch.randn(1 , requires_grad=True)\n",
        "x.dtype"
      ],
      "metadata": {
        "colab": {
          "base_uri": "https://localhost:8080/"
        },
        "id": "vcBTGp3i_N65",
        "outputId": "4c918a17-2633-4a2e-a9dd-180860ef641c"
      },
      "execution_count": 8,
      "outputs": [
        {
          "output_type": "execute_result",
          "data": {
            "text/plain": [
              "torch.float32"
            ]
          },
          "metadata": {},
          "execution_count": 8
        }
      ]
    },
    {
      "cell_type": "code",
      "source": [
        "x = torch.randn(1, requires_grad=True , dtype=torch.float)\n",
        "x.dtype"
      ],
      "metadata": {
        "colab": {
          "base_uri": "https://localhost:8080/"
        },
        "id": "304NsHdL_rHN",
        "outputId": "473ebd44-cdcd-4996-ef56-2391eaaea54b"
      },
      "execution_count": 9,
      "outputs": [
        {
          "output_type": "execute_result",
          "data": {
            "text/plain": [
              "torch.float32"
            ]
          },
          "metadata": {},
          "execution_count": 9
        }
      ]
    },
    {
      "cell_type": "code",
      "source": [
        "class LinearRegressionModel(nn.Module):\n",
        "  def __init__(self):\n",
        "    super().__init__()  #Invoking the base class (nn.Module) constructor.\n",
        "    self.linear_layer = nn.Linear(in_features= 1,  #No of feature column/s\n",
        "                                  out_features= 1) #No of target / label column/s\n",
        "\n",
        "  def forward(self, x:torch.Tensor)->torch.Tensor:\n",
        "    return self.linear_layer(x)"
      ],
      "metadata": {
        "id": "4ec8-lBFkF1A"
      },
      "execution_count": 7,
      "outputs": []
    },
    {
      "cell_type": "code",
      "source": [
        "# Model instantiation\n",
        "model = LinearRegressionModel()\n",
        "print(f\"Model :\\n{model}\")\n",
        "print(f\"\\nModel state dict :\\n{model.state_dict()}\")\n",
        "print(f\"\\nModel parameters:\\n{list(model.parameters())}\")\n",
        "next(model.parameters()).device"
      ],
      "metadata": {
        "colab": {
          "base_uri": "https://localhost:8080/"
        },
        "id": "_WzecGgw2SjV",
        "outputId": "a574c7ef-ae0e-4e6c-b0ff-2bc7045c629e"
      },
      "execution_count": 8,
      "outputs": [
        {
          "output_type": "stream",
          "name": "stdout",
          "text": [
            "Model :\n",
            "LinearRegressionModel(\n",
            "  (linear_layer): Linear(in_features=1, out_features=1, bias=True)\n",
            ")\n",
            "\n",
            "Model state dict :\n",
            "OrderedDict([('linear_layer.weight', tensor([[0.3099]])), ('linear_layer.bias', tensor([0.3003]))])\n",
            "\n",
            "Model parameters:\n",
            "[Parameter containing:\n",
            "tensor([[0.3099]], requires_grad=True), Parameter containing:\n",
            "tensor([0.3003], requires_grad=True)]\n"
          ]
        },
        {
          "output_type": "execute_result",
          "data": {
            "text/plain": [
              "device(type='cpu')"
            ]
          },
          "metadata": {},
          "execution_count": 8
        }
      ]
    },
    {
      "cell_type": "code",
      "source": [
        "torch.manual_seed(42)\n",
        "#moving the model to target device ( device agnostic code - moving from CPU to GPU)\n",
        "model.to(device)\n",
        "\n",
        "#Set up the loss function\n",
        "#loss_fn = nn.L1Loss()\n",
        "\n",
        "#Set up the optimizer .\n",
        "optimizer = torch.optim.SGD(params = model.parameters() , lr = 0.01)\n",
        "\n",
        "#Putting data on the target device ( device agnostic code for data)\n",
        "X_train = X_train.to(device)\n",
        "Y_train = Y_train.to(device)\n",
        "X_test = X_test.to(device)\n",
        "Y_test = Y_test.to(device)\n",
        "\n",
        "#Training the model\n",
        "\n",
        "\n",
        "epochs = 1000\n",
        "epoch_count = []\n",
        "train_loss_val = []\n",
        "test_loss_val = []\n",
        "\n",
        "for epoch in range(epochs):\n",
        "  #Set the model to training mode.\n",
        "  model.train()\n",
        "  # Do the forward pass\n",
        "  train_pred =  model(X_train)\n",
        "\n",
        "  #Calculate the loss\n",
        "  #loss = loss_fn(train_pred , Y_train)\n",
        "  loss = F.l1_loss(train_pred, Y_train)\n",
        "\n",
        "  #Zero the gradients of all the parameters in your model.\n",
        "  optimizer.zero_grad()\n",
        "\n",
        "  #Do the backpropogation - Loss backward.\n",
        "  loss.backward()\n",
        "\n",
        "  # After the gradients of the model parameters have been computed during the backward pass,\n",
        "  # optimizer.step() is called to update the model parameters based on those gradients.\n",
        "\n",
        "  optimizer.step()\n",
        "\n",
        "  #Set the model to evalutation / test mode.\n",
        "  model.eval()\n",
        "  with torch.inference_mode(): #Disable the gradient calculation\n",
        "    #Do the forward pass\n",
        "    test_preds = model(X_test)\n",
        "\n",
        "    #Calculate the loss\n",
        "    #test_loss = loss_fn(test_preds, Y_test)\n",
        "    test_loss = F.l1_loss(test_preds, Y_test)\n",
        "\n",
        "  if epoch % 100 == 0:\n",
        "    epoch_count.append(epoch)\n",
        "    train_loss_val.append(loss)\n",
        "    test_loss_val.append(test_loss)\n",
        "    print(f\" Epoch : {epoch} | Train loss : {loss} | Test loss : {test_loss}\")\n",
        "\n",
        "\n",
        "\n"
      ],
      "metadata": {
        "colab": {
          "base_uri": "https://localhost:8080/"
        },
        "id": "CZMpbxVrivoK",
        "outputId": "61346a44-8bb3-466c-8846-506d79440343"
      },
      "execution_count": 9,
      "outputs": [
        {
          "output_type": "stream",
          "name": "stdout",
          "text": [
            " Epoch : 0 | Train loss : 0.15189228951931 | Test loss : 0.33396992087364197\n",
            " Epoch : 100 | Train loss : 0.03524079546332359 | Test loss : 0.08178188651800156\n",
            " Epoch : 200 | Train loss : 0.0049748593010008335 | Test loss : 0.010157805867493153\n",
            " Epoch : 300 | Train loss : 0.0049748593010008335 | Test loss : 0.010157805867493153\n",
            " Epoch : 400 | Train loss : 0.0049748593010008335 | Test loss : 0.010157805867493153\n",
            " Epoch : 500 | Train loss : 0.0049748593010008335 | Test loss : 0.010157805867493153\n",
            " Epoch : 600 | Train loss : 0.0049748593010008335 | Test loss : 0.010157805867493153\n",
            " Epoch : 700 | Train loss : 0.0049748593010008335 | Test loss : 0.010157805867493153\n",
            " Epoch : 800 | Train loss : 0.0049748593010008335 | Test loss : 0.010157805867493153\n",
            " Epoch : 900 | Train loss : 0.0049748593010008335 | Test loss : 0.010157805867493153\n"
          ]
        }
      ]
    },
    {
      "cell_type": "code",
      "source": [
        "model.state_dict() , loss.item()"
      ],
      "metadata": {
        "colab": {
          "base_uri": "https://localhost:8080/"
        },
        "id": "7mXV52OUDWKw",
        "outputId": "945a24f6-5034-406f-8e15-33c29c0ee22c"
      },
      "execution_count": 10,
      "outputs": [
        {
          "output_type": "execute_result",
          "data": {
            "text/plain": [
              "(OrderedDict([('linear_layer.weight', tensor([[0.6967]], device='cuda:0')),\n",
              "              ('linear_layer.bias', tensor([0.3063], device='cuda:0'))]),\n",
              " 0.006546124815940857)"
            ]
          },
          "metadata": {},
          "execution_count": 10
        }
      ]
    },
    {
      "cell_type": "code",
      "source": [
        "list(model.parameters())"
      ],
      "metadata": {
        "colab": {
          "base_uri": "https://localhost:8080/"
        },
        "id": "j2Su-eUOEAE_",
        "outputId": "6ab9ec65-8d5b-4b89-eb3c-d8d99297fd46"
      },
      "execution_count": 11,
      "outputs": [
        {
          "output_type": "execute_result",
          "data": {
            "text/plain": [
              "[Parameter containing:\n",
              " tensor([[0.6967]], device='cuda:0', requires_grad=True),\n",
              " Parameter containing:\n",
              " tensor([0.3063], device='cuda:0', requires_grad=True)]"
            ]
          },
          "metadata": {},
          "execution_count": 11
        }
      ]
    },
    {
      "cell_type": "code",
      "source": [
        "(torch.tensor(train_loss_val))"
      ],
      "metadata": {
        "colab": {
          "base_uri": "https://localhost:8080/"
        },
        "id": "chC4WhHHFo0S",
        "outputId": "5ee94d8c-5bfa-4c77-cf2e-0f3e5480f1fb"
      },
      "execution_count": 12,
      "outputs": [
        {
          "output_type": "execute_result",
          "data": {
            "text/plain": [
              "tensor([0.1519, 0.0352, 0.0050, 0.0050, 0.0050, 0.0050, 0.0050, 0.0050, 0.0050,\n",
              "        0.0050])"
            ]
          },
          "metadata": {},
          "execution_count": 12
        }
      ]
    },
    {
      "cell_type": "code",
      "source": [
        "torch.tensor(train_loss_val).numpy()"
      ],
      "metadata": {
        "colab": {
          "base_uri": "https://localhost:8080/"
        },
        "id": "9BI2BGi2SDes",
        "outputId": "5961eec2-b71c-4ee4-ed82-bbba604e8f5d"
      },
      "execution_count": 13,
      "outputs": [
        {
          "output_type": "execute_result",
          "data": {
            "text/plain": [
              "array([0.15189229, 0.0352408 , 0.00497486, 0.00497486, 0.00497486,\n",
              "       0.00497486, 0.00497486, 0.00497486, 0.00497486, 0.00497486],\n",
              "      dtype=float32)"
            ]
          },
          "metadata": {},
          "execution_count": 13
        }
      ]
    },
    {
      "cell_type": "code",
      "source": [
        "#Plot the loss curves\n",
        "\n",
        "plt.plot(epoch_count , torch.tensor(train_loss_val).numpy() , label = \"Train loss\")\n",
        "plt.plot(epoch_count , torch.tensor(test_loss_val).numpy() , label = \"Test loss\")\n",
        "plt.title(\"Loss Curve\")\n",
        "plt.xlabel(\"Epoch\")\n",
        "plt.ylabel(\"Loss\")\n",
        "plt.legend();"
      ],
      "metadata": {
        "colab": {
          "base_uri": "https://localhost:8080/",
          "height": 472
        },
        "id": "k7BBSiv4EFGU",
        "outputId": "85911845-c2fb-4864-ca51-dbf415b05b44"
      },
      "execution_count": 14,
      "outputs": [
        {
          "output_type": "display_data",
          "data": {
            "text/plain": [
              "<Figure size 640x480 with 1 Axes>"
            ],
            "image/png": "[encoded data removed]"
          },
          "metadata": {}
        }
      ]
    },
    {
      "cell_type": "markdown",
      "source": [
        "#### Difference between model.eval and torch.no_grad / torch.inference_mode.\n",
        "\n",
        "\n",
        "These two have different goals:\n",
        "\n",
        "* model.eval() will notify all your layers that you are in eval mode, that way, batchnorm or dropout layers will work in eval mode instead of training mode.\n",
        "\n",
        "* torch.no_grad() impacts the autograd engine and deactivate it. It will reduce memory usage and speed up computations but you won’t be able to backprop (which you don’t want in an eval script)."
      ],
      "metadata": {
        "id": "HZWdPByxm9y2"
      }
    },
    {
      "cell_type": "code",
      "source": [
        "#Saving the model.\n",
        "\n",
        "from pathlib import Path\n",
        "\n",
        "# Create a folder to save the model.\n",
        "MODEL_FOLDER = Path(\"models\")\n",
        "MODEL_FOLDER.mkdir( parents = True , exist_ok = True)\n",
        "\n",
        "# File name to save the model.\n",
        "MODEL_NAME = \"pytorch_linear_model.pth\"\n",
        "\n",
        "#Join paths.\n",
        "MODEL_SAVE_PATH  = MODEL_FOLDER / MODEL_NAME\n",
        "\n",
        "#Save the model\n",
        "print(f\"Saving model to {MODEL_SAVE_PATH}\")\n",
        "torch.save(obj = model.state_dict(), f = MODEL_SAVE_PATH)\n",
        "\n"
      ],
      "metadata": {
        "colab": {
          "base_uri": "https://localhost:8080/"
        },
        "id": "DwFM9DV_As0F",
        "outputId": "97bd9829-9daa-48e8-f0a3-fe201af6be31"
      },
      "execution_count": 19,
      "outputs": [
        {
          "output_type": "stream",
          "name": "stdout",
          "text": [
            "Saving model to models/pytorch_Linear_Model.pth\n"
          ]
        }
      ]
    },
    {
      "cell_type": "code",
      "source": [
        "#Loading the saved model and doing prediction on new features.\n",
        "\n",
        "#Create a new model instance.\n",
        "loaded_model = LinearRegressionModel()"
      ],
      "metadata": {
        "id": "R1g6IyWZX261"
      },
      "execution_count": 87,
      "outputs": []
    },
    {
      "cell_type": "code",
      "source": [
        "loaded_model.state_dict()"
      ],
      "metadata": {
        "colab": {
          "base_uri": "https://localhost:8080/"
        },
        "id": "xiYph2AvYQsf",
        "outputId": "37667d20-75f0-4195-9af1-ff973b496ddf"
      },
      "execution_count": 88,
      "outputs": [
        {
          "output_type": "execute_result",
          "data": {
            "text/plain": [
              "OrderedDict([('linear_layer.weight', tensor([[0.8815]])),\n",
              "             ('linear_layer.bias', tensor([-0.7336]))])"
            ]
          },
          "metadata": {},
          "execution_count": 88
        }
      ]
    },
    {
      "cell_type": "code",
      "source": [
        "loaded_model.load_state_dict(torch.load(f= MODEL_SAVE_PATH))"
      ],
      "metadata": {
        "colab": {
          "base_uri": "https://localhost:8080/"
        },
        "id": "3IEiHgZxYWwu",
        "outputId": "8e62c5bc-5ea7-4a01-c24c-2a0c3c4cef6f"
      },
      "execution_count": 89,
      "outputs": [
        {
          "output_type": "execute_result",
          "data": {
            "text/plain": [
              "<All keys matched successfully>"
            ]
          },
          "metadata": {},
          "execution_count": 89
        }
      ]
    },
    {
      "cell_type": "code",
      "source": [
        "loaded_model.state_dict()"
      ],
      "metadata": {
        "colab": {
          "base_uri": "https://localhost:8080/"
        },
        "id": "3GBQx_F6ZlEL",
        "outputId": "217cb436-df24-4436-a8c2-cfb3d54e87b4"
      },
      "execution_count": 94,
      "outputs": [
        {
          "output_type": "execute_result",
          "data": {
            "text/plain": [
              "OrderedDict([('linear_layer.weight', tensor([[0.6967]])),\n",
              "             ('linear_layer.bias', tensor([0.3063]))])"
            ]
          },
          "metadata": {},
          "execution_count": 94
        }
      ]
    },
    {
      "cell_type": "code",
      "source": [
        "next(loaded_model.parameters()).device"
      ],
      "metadata": {
        "colab": {
          "base_uri": "https://localhost:8080/"
        },
        "id": "YNsh5lu5nmYd",
        "outputId": "1ef391bf-7c3f-4017-b862-b7023cae3557"
      },
      "execution_count": 95,
      "outputs": [
        {
          "output_type": "execute_result",
          "data": {
            "text/plain": [
              "device(type='cpu')"
            ]
          },
          "metadata": {},
          "execution_count": 95
        }
      ]
    },
    {
      "cell_type": "code",
      "source": [
        "X_test.device"
      ],
      "metadata": {
        "colab": {
          "base_uri": "https://localhost:8080/"
        },
        "id": "C_dAHvCJne9l",
        "outputId": "3a2f1a41-9809-42d8-9b30-9f903dc0663c"
      },
      "execution_count": 93,
      "outputs": [
        {
          "output_type": "execute_result",
          "data": {
            "text/plain": [
              "device(type='cuda', index=0)"
            ]
          },
          "metadata": {},
          "execution_count": 93
        }
      ]
    },
    {
      "cell_type": "code",
      "source": [
        "model.eval()\n",
        "with torch.inference_mode():\n",
        "  y_new_preds = loaded_model(X_test.cpu())\n",
        "\n",
        "\n"
      ],
      "metadata": {
        "id": "tBiy7-t-aQxG"
      },
      "execution_count": 96,
      "outputs": []
    },
    {
      "cell_type": "code",
      "source": [
        "#Plot the prediction.\n",
        "\n",
        "\n",
        "plot_prediction (prediction = y_new_preds)"
      ],
      "metadata": {
        "colab": {
          "base_uri": "https://localhost:8080/",
          "height": 291
        },
        "id": "QMZrNxWObAxp",
        "outputId": "910c9a27-ed69-4047-bb5c-689b57b44aa8"
      },
      "execution_count": 97,
      "outputs": [
        {
          "output_type": "display_data",
          "data": {
            "text/plain": [
              "<Figure size 500x300 with 1 Axes>"
            ],
            "image/png": "[encoded data removed]"
          },
          "metadata": {}
        }
      ]
    },
    {
      "cell_type": "code",
      "source": [
        "# Predicting on new data\n",
        "\n",
        "X_new = torch.rand(1)\n",
        "\n",
        "X_new"
      ],
      "metadata": {
        "colab": {
          "base_uri": "https://localhost:8080/"
        },
        "id": "DrXuUM93fwT-",
        "outputId": "105d08ad-54de-41a8-ccb1-3864b5ec2791"
      },
      "execution_count": 108,
      "outputs": [
        {
          "output_type": "execute_result",
          "data": {
            "text/plain": [
              "tensor([0.7411])"
            ]
          },
          "metadata": {},
          "execution_count": 108
        }
      ]
    },
    {
      "cell_type": "code",
      "source": [
        "model.eval()\n",
        "with torch.inference_mode():\n",
        "  y_pred_new = loaded_model(X_new)\n",
        "\n",
        "print(f\" Predicted value { y_pred_new}\")\n",
        "print(f\" Actual value { weight * X_new + bias}\")"
      ],
      "metadata": {
        "colab": {
          "base_uri": "https://localhost:8080/"
        },
        "id": "KKuIpxwGgDD8",
        "outputId": "c1afdc3b-255d-4842-a367-9fd822730605"
      },
      "execution_count": 110,
      "outputs": [
        {
          "output_type": "stream",
          "name": "stdout",
          "text": [
            " Predicted value tensor([0.8226])\n",
            " Actual value tensor([0.8188])\n"
          ]
        }
      ]
    }
  ]
}